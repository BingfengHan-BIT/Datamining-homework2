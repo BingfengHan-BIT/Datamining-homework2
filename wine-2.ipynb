{
 "cells": [
  {
   "cell_type": "markdown",
   "metadata": {},
   "source": [
    "### 频繁模式 和 关联规则 分析"
   ]
  },
  {
   "cell_type": "code",
   "execution_count": null,
   "metadata": {},
   "outputs": [],
   "source": [
    "#-*- coding: utf-8 -*-\n",
    "import csv\n",
    "import numpy as np\n",
    "import pandas as pd\n",
    "import scipy\n",
    "import math\n",
    "import random\n",
    "import matplotlib\n",
    "import matplotlib.pyplot as plt\n",
    "import matplotlib.image as mpimg\n",
    "import orangecontrib.associate.fpgrowth as oaf\n",
    "from apyori import apriori\n",
    "from collections import Counter\n",
    "from scipy.stats import chi2_contingency"
   ]
  },
  {
   "cell_type": "code",
   "execution_count": null,
   "metadata": {},
   "outputs": [],
   "source": [
    "# open csv file\n",
    "with open('/root/dataset/wine/winemag-data-130k-v2.csv', 'r',encoding='utf-8-sig') as f:\n",
    "    reader = csv.reader(f)\n",
    "    lines = list(reader)\n",
    "print(\"This dataset has {} items.\".format(len(lines)-1))\n",
    "print(\"The index/attributes of this dataset are:\")\n",
    "index = lines[0]\n",
    "for i in range(len(lines[0])):\n",
    "    print(\"No.{}\\t {}\".format(i+1, lines[0][i]))"
   ]
  },
  {
   "cell_type": "code",
   "execution_count": null,
   "metadata": {},
   "outputs": [],
   "source": [
    "print(\"Accordingly, the type of each attribute are:\\n\")\n",
    "TYPE_NUMERIC = \"numeric\"\n",
    "TYPE_NOMINAL = \"nominal\"\n",
    "index_type = [1, 2, 2, 2, 1, 1, 2, 2 ,2, 2, 2, 2, 2, 2]\n",
    "for item in range(len(index_type)):\n",
    "    if index_type[item] == 1:\n",
    "        index_type[item] = TYPE_NUMERIC\n",
    "    else:\n",
    "        index_type[item] = TYPE_NOMINAL\n",
    "for i in range(len(index)):\n",
    "    print(\"No.{}\\t {:25}\\t {}\".format(i+1, index[i], index_type[i]))"
   ]
  },
  {
   "cell_type": "code",
   "execution_count": null,
   "metadata": {},
   "outputs": [],
   "source": [
    "lines = lines[1:]"
   ]
  },
  {
   "cell_type": "code",
   "execution_count": null,
   "metadata": {},
   "outputs": [],
   "source": [
    "ItemNo = [x+1 for x in range(len(lines))]\n",
    "df = pd.DataFrame(lines, index=ItemNo, columns=index)\n",
    "df.describe()"
   ]
  },
  {
   "cell_type": "code",
   "execution_count": null,
   "metadata": {},
   "outputs": [],
   "source": [
    "print(\"Initializing lists...\")\n",
    "id = []\n",
    "country = []\n",
    "description = []\n",
    "designation =[]\n",
    "points = []\n",
    "price = []\n",
    "province = []\n",
    "region_1 = []\n",
    "region_2 = []\n",
    "taster_name = []\n",
    "taster_twitter_handle = []\n",
    "title = []\n",
    "variety = []\n",
    "winery = []"
   ]
  },
  {
   "cell_type": "code",
   "execution_count": null,
   "metadata": {},
   "outputs": [],
   "source": [
    "for item in lines:\n",
    "    id.append(item[0])\n",
    "    country.append(item[1])\n",
    "    description.append(item[2])\n",
    "    designation.append(item[3])\n",
    "    points.append(item[4])\n",
    "    price.append(item[5])\n",
    "    province.append(item[6])\n",
    "    region_1.append(item[7])\n",
    "    region_2.append(item[8])\n",
    "    taster_name.append(item[9])\n",
    "    taster_twitter_handle.append(item[10])\n",
    "    title.append(item[11])\n",
    "    variety.append(item[12])\n",
    "    winery.append(item[13])\n",
    "print(\"Initialize lists finished.\")"
   ]
  },
  {
   "cell_type": "markdown",
   "metadata": {},
   "source": [
    "About this dataset, we analysis the frequent mode among country/points/price/province/region_1/region_2/winery attributes."
   ]
  },
  {
   "cell_type": "code",
   "execution_count": null,
   "metadata": {},
   "outputs": [],
   "source": [
    "Data_set = []\n",
    "for i in range(len(country)):\n",
    "    if country[i] != '' and points[i] != '' and price[i] != '' and province[i] != '' and winery[i] != '':\n",
    "        item = []\n",
    "        item.append(country[i])\n",
    "        item.append(points[i])\n",
    "        item.append(price[i])\n",
    "        item.append(province[i])\n",
    "        #item.append(region_1[i])\n",
    "        #item.append(region_2[i])\n",
    "        item.append(winery[i])\n",
    "        Data_set.append(item)\n",
    "print(\"Initialized data set for analysis.\")\n",
    "print(len(Data_set))"
   ]
  },
  {
   "cell_type": "code",
   "execution_count": null,
   "metadata": {},
   "outputs": [],
   "source": [
    "result = list(apriori(transactions=Data_set))\n",
    "for item in result:\n",
    "    print(item)\n",
    "    print()\n",
    "print(type(result[0]))"
   ]
  },
  {
   "cell_type": "markdown",
   "metadata": {},
   "source": [
    "出现的频繁项集有："
   ]
  },
  {
   "cell_type": "code",
   "execution_count": null,
   "metadata": {},
   "outputs": [],
   "source": [
    "count = 0\n",
    "item_len = 1\n",
    "len_list = []\n",
    "for item in result:\n",
    "    if len(item[0]) == item_len:\n",
    "        count += 1\n",
    "    else:\n",
    "        print(str(item_len)+\"项集有\"+str(count)+\"个。\\n\")\n",
    "        len_list.append(count)\n",
    "        count = 1\n",
    "        item_len += 1\n",
    "    print(item[0])\n",
    "print(str(item_len)+\"项集有\"+str(count)+\"个。\\n\")\n",
    "len_list.append(count)"
   ]
  },
  {
   "cell_type": "markdown",
   "metadata": {},
   "source": [
    "单一项集分析："
   ]
  },
  {
   "cell_type": "code",
   "execution_count": null,
   "metadata": {},
   "outputs": [],
   "source": [
    "Name_list = []\n",
    "Support_list = []\n",
    "Confidence_list = []\n",
    "Lift_list = []\n",
    "K2_list = []\n",
    "len_items = len_list[0]\n",
    "for item in range(len_items):\n",
    "    for name in result[item][0]:\n",
    "        Name_list.append(name)\n",
    "    Support_list.append(result[item][1])\n",
    "    Confidence_list.append(result[item][2][0][2])\n",
    "    Lift_list.append(result[item][2][0][3])"
   ]
  },
  {
   "cell_type": "code",
   "execution_count": null,
   "metadata": {},
   "outputs": [],
   "source": [
    "plt.rcParams['savefig.dpi'] = 150\n",
    "plt.rcParams['figure.dpi'] = 150\n",
    "plt.rcParams['figure.figsize'] = (10.0, 4.0)\n",
    "\n",
    "x_range = list(range(len(Name_list)))\n",
    "\n",
    "rects1 = plt.bar(x=x_range, height=Support_list, width=0.25, color='red', label=\"Support\")\n",
    "rects2 = plt.bar(x=[i + 0.25 for i in x_range], height=Confidence_list, width=0.25, color='lightgreen', label=\"Confidence\")\n",
    "rects3 = plt.bar(x=[i + 0.5 for i in x_range], height=Lift_list, width=0.25, color='lightblue', label=\"Lift\")\n",
    "plt.ylim(0, 1)     # y轴取值范围\n",
    "\n",
    "plt.xticks([index + 0.2 for index in x_range], Name_list)\n",
    "plt.xlabel(\"Mode Name\")\n",
    "plt.legend()     # 设置题注\n",
    "plt.show()"
   ]
  },
  {
   "cell_type": "code",
   "execution_count": null,
   "metadata": {},
   "outputs": [],
   "source": [
    "for item in range(len(Name_list)):\n",
    "    print(\"【\"+str(Name_list[item])+\"】\")\n",
    "    print(str(Name_list[item])+\"-\"+\"Support:\"+str(Support_list[item]))\n",
    "    print(str(Name_list[item])+\"-\"+\"Confidence:\"+str(Confidence_list[item]))\n",
    "    print(str(Name_list[item])+\"-\"+\"Lift:\"+str(Lift_list[item]))\n",
    "    print()"
   ]
  },
  {
   "cell_type": "markdown",
   "metadata": {},
   "source": [
    "二项集分析："
   ]
  },
  {
   "cell_type": "code",
   "execution_count": null,
   "metadata": {},
   "outputs": [],
   "source": [
    "item=result[7]\n",
    "Name_list = [\"US - California\", \"California <- US\", \"US <- California\"]\n",
    "Support_list = [item[1], 0, 0]\n",
    "Confidence_list = [item[2][0][2], item[2][1][2], item[2][2][2]]\n",
    "Lift_list = [item[2][0][3], item[2][1][3], item[2][2][3]]"
   ]
  },
  {
   "cell_type": "code",
   "execution_count": null,
   "metadata": {},
   "outputs": [],
   "source": [
    "plt.clf()\n",
    "plt.rcParams['savefig.dpi'] = 150\n",
    "plt.rcParams['figure.dpi'] = 150\n",
    "plt.rcParams['figure.figsize'] = (10.0, 4.0)\n",
    "\n",
    "x_range = list(range(len(Name_list)))\n",
    "\n",
    "plt.bar(x=x_range, height=Support_list, width=0.25, color='red', label=\"Support\")\n",
    "plt.bar(x=[i + 0.25 for i in x_range], height=Confidence_list, width=0.25, color='lightgreen', label=\"Confidence\")\n",
    "plt.bar(x=[i + 0.5 for i in x_range], height=Lift_list, width=0.25, color='lightblue', label=\"Lift\")\n",
    "\n",
    "plt.xticks([index + 0.2 for index in x_range], Name_list)\n",
    "plt.xlabel(\"Mode Name\")\n",
    "plt.legend()     # 设置题注\n",
    "plt.show()"
   ]
  },
  {
   "cell_type": "code",
   "execution_count": null,
   "metadata": {
    "scrolled": true
   },
   "outputs": [],
   "source": [
    "for item in range(len(Name_list)):\n",
    "    print(\"【\"+str(Name_list[item])+\"】\")\n",
    "    print(str(Name_list[item])+\"-\"+\"Support:\"+str(Support_list[item]))\n",
    "    print(str(Name_list[item])+\"-\"+\"Confidence:\"+str(Confidence_list[item]))\n",
    "    print(str(Name_list[item])+\"-\"+\"Lift:\"+str(Lift_list[item]))\n",
    "    print()"
   ]
  },
  {
   "cell_type": "markdown",
   "metadata": {},
   "source": [
    "卡方分析检验：  \n",
    "分析产地对就价格的影响："
   ]
  },
  {
   "cell_type": "code",
   "execution_count": null,
   "metadata": {},
   "outputs": [],
   "source": [
    "Data_list1 = []\n",
    "Data_list2 = []\n",
    "price = np.array(price)\n",
    "# print(\"converted\")\n",
    "for item in range(len(province)):\n",
    "    if province[item] == \"California\" and price[item] != '':\n",
    "        Data_list1.append(float(price[item]))\n",
    "    elif province[item] == \"Washington\" and price[item] != '':\n",
    "        Data_list2.append(float(price[item]))\n",
    "len_items = min(len(Data_list1), len(Data_list2))\n",
    "if len(Data_list1) == len_items:\n",
    "    Data_list2 = random.sample(Data_list2, len_items)\n",
    "else:\n",
    "    Data_list1 = random.sample(Data_list1, len_items)\n",
    "\n",
    "Data_list1 = np.array(Data_list1).astype(int)\n",
    "Data_list2 = np.array(Data_list2).astype(int)\n",
    "obs = np.array([Data_list1, Data_list2])\n",
    "chi2_result = chi2_contingency(obs)"
   ]
  },
  {
   "cell_type": "markdown",
   "metadata": {},
   "source": [
    "产地 California 与 Washington 对价格影响的卡方为："
   ]
  },
  {
   "cell_type": "code",
   "execution_count": null,
   "metadata": {},
   "outputs": [],
   "source": [
    "print(chi2_result[0])"
   ]
  },
  {
   "cell_type": "markdown",
   "metadata": {},
   "source": [
    "其它类似卡方检验可以使用以上同样方式进行。"
   ]
  }
 ],
 "metadata": {
  "kernelspec": {
   "display_name": "Python 3",
   "language": "python",
   "name": "python3"
  },
  "language_info": {
   "codemirror_mode": {
    "name": "ipython",
    "version": 3
   },
   "file_extension": ".py",
   "mimetype": "text/x-python",
   "name": "python",
   "nbconvert_exporter": "python",
   "pygments_lexer": "ipython3",
   "version": "3.7.0"
  }
 },
 "nbformat": 4,
 "nbformat_minor": 4
}
